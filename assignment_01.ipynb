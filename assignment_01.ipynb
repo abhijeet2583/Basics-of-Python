{
  "nbformat": 4,
  "nbformat_minor": 0,
  "metadata": {
    "colab": {
      "provenance": []
    },
    "kernelspec": {
      "name": "python3",
      "display_name": "Python 3"
    },
    "language_info": {
      "name": "python"
    }
  },
  "cells": [
    {
      "cell_type": "markdown",
      "source": [
        "1.What is Python, and why is it popular ?\n",
        "  - A python is a versatile interpreted high level programming language\n",
        "    and easy in use with readability.\n",
        "\n",
        "    B) Python is Popular due to:\n",
        "      - Extensive vast libraries\n",
        "      - simple syntax\n",
        "      - Adaptable to various field like Data science, M/L and web       development .\n",
        "\n",
        "2.What is an interpreter in Python ?\n",
        "  - Interpretor is a program that reads and executes code line by line.\n",
        "    The inerpretor translates the python code into bytecode and hence executed by virtual machine for immediate execution and result.\n",
        "\n",
        "3.What are pre-defined keywords in Python ?\n",
        "  - Key words are reserved words used in python programming with        \n",
        "    special meaning specified to compiler .\n",
        "    Key words can not be used as identifiers , funcation or variables.\n",
        "\n",
        "4.Can keywords be used as variable names ?\n",
        "  - No we can not use key word as variable name . If we assigned\n",
        "    key word as variable name then it will give error as \"int \"\n",
        "    object is not collable because the built in print() fun.\n",
        "\n",
        "5.What is mutability in Python ?\n",
        "  - Mutability means object having ability to get modified.\n",
        "    eg- list , sets , dictionary\n",
        "\n",
        "6.Why are lists mutable, but tuples are immutable ?\n",
        "  - list are mutable due to method available with list object and\n",
        "    assignment is possible.\n",
        "    eg:\n",
        "    list1=[1,2,3,5,8]\n",
        "    list1[4]= \"Hello\"\n",
        "    list1= [1,2,3,5,\"hello\"]\n",
        "    \n",
        "    In tuple assignment is not possible . If assigment is done then\n",
        "    it will throw an error \"can not assign to tuple object\"\n",
        "    tuple1= (1,2,3,4,5)\n",
        "    tuple1[4] = \"Hello\"\n",
        "    print(tuple1) // throws an error\n",
        "\n",
        "7.What is the difference between “==” and “is” operators in Python ?\n",
        "  - \"==\" is also known as comparision operator. It is used to compare\n",
        "    two values and return boolean values.\n",
        "    eg- 2==2 return True\n",
        "\n",
        "    \"is\" is also known as identity operator. It is used to compare location of two object /variable .\n",
        "    eg- a=2  a is b o/p false ( both a and b reference to two different\n",
        "        b=3                     location.\n",
        "\n",
        "8.What are logical operators in Python ?\n",
        "  - There are three types of logical operators.\n",
        "    a) And\n",
        "    b) Or\n",
        "    c) Not\n",
        "\n",
        "9.What is type casting in Python ?\n",
        "  - Type casting is used to change data types of values or object.\n",
        "\n",
        "    eg- a = \"2\"\n",
        "        b = 3\n",
        "        a+b = throws error // not of same type\n",
        "\n",
        "        int(a)+ b = 5\n",
        "\n",
        "10.What is the difference between implicit and explicit type casting ?\n",
        "  - Implicit Type casting- itself understand data types.\n",
        "    eg-\n",
        "    a= 5\n",
        "    type(a) = int\n",
        "\n",
        "    Explicit Type Casting- converts the data type using in-built\n",
        "    funcation.\n",
        "    eg-\n",
        "    a = \"2\"\n",
        "    int(a), print(int(a))= 2\n",
        "\n",
        "11.What is the purpose of conditional statements in Python ?\n",
        "  - Purpose of conditional statement to help the code decision based\n",
        "    on some pre-condition.\n",
        "    syntax-\n",
        "     if condition true:\n",
        "        block of code\n",
        "\n",
        "      eg-\n",
        "      a=100\n",
        "        if a > 0\n",
        "          print(\" Number is greater than zero\")\n",
        "\n",
        "12.How does the elif statement work ?\n",
        "  - syntax\n",
        "    if some condition:\n",
        "    elif some condition\n",
        "\n",
        "    else:\n",
        "    eg-\n",
        "    a = 10\n",
        "    if a > 100\n",
        "      print(\" number is smaller than 100\")\n",
        "\n",
        "    elif a < 100\n",
        "      print(\" number is smaller than 100\")\n",
        "\n",
        "    else:\n",
        "      print(\"number equal to 100\")\n",
        "\n",
        "13.What is the difference between for and while loops ?\n",
        "  - for loop executes when number of iterations is known.\n",
        "    eg-\n",
        "    for i in \"hello\"\n",
        "      print(i)\n",
        "    \n",
        "    while loop executes repeatedly untill condition is not\n",
        "    true.\n",
        "    eg-\n",
        "    n=7\n",
        "    i=1\n",
        "\n",
        "    while i < n:\n",
        "     i = i + 1 ----- Break condition\n",
        "\n",
        "    print(i)\n",
        "\n",
        "14.Describe a scenario where a while loop is more suitable than a for\n",
        "   loop.\n",
        "  - user_input = \" \"\n",
        "    while user_input != \"done\"\n",
        "        user_input = input(\" enter something or 'done' to exit)\n",
        "    \n",
        "    print(\" you entered :\" user_input)\n",
        "\n",
        "    here we see that number of times loop need to run is uncertain.\n",
        "    so a while loop can be used to keep prompting the user for input\n",
        "    as long as \"done\" is not entered.\n",
        "    but in for loop such prompting condition is absent and hence\n",
        "    loop iteration is not known.\n",
        "\n",
        "    "
      ],
      "metadata": {
        "id": "PLJmbtj_E9mL"
      }
    },
    {
      "cell_type": "code",
      "source": [
        "## Write a Python program to print \"Hello, World!y\n",
        "var = \"Hello, World!\"\n",
        "print(var)"
      ],
      "metadata": {
        "colab": {
          "base_uri": "https://localhost:8080/"
        },
        "id": "BdrPDRvISB9k",
        "outputId": "af5b0109-9f7d-4793-9207-1df1c80c2f61"
      },
      "execution_count": 1,
      "outputs": [
        {
          "output_type": "stream",
          "name": "stdout",
          "text": [
            "Hello, World!\n"
          ]
        }
      ]
    },
    {
      "cell_type": "code",
      "source": [
        "## Write a Python program that displays your name and age.\n",
        "\n",
        "name = input(\"enter your name\")\n",
        "age = input(\"enter your age\")\n",
        "print(f\"your name is {name} and your age is {age}\")\n"
      ],
      "metadata": {
        "colab": {
          "base_uri": "https://localhost:8080/"
        },
        "id": "WCqeWTmST3js",
        "outputId": "38ea7e97-5620-4422-8bf8-061a2f19c83d"
      },
      "execution_count": 2,
      "outputs": [
        {
          "output_type": "stream",
          "name": "stdout",
          "text": [
            "enter your name abhijeet\n",
            "enter your age 41\n",
            "your name is  abhijeet and your age is  41\n"
          ]
        }
      ]
    },
    {
      "cell_type": "code",
      "source": [
        "## Write code to print all the pre-defined keywords in Python using the keyword library.\n",
        "\n",
        "import keyword\n",
        "print(keyword.kwlist)"
      ],
      "metadata": {
        "colab": {
          "base_uri": "https://localhost:8080/"
        },
        "id": "OjTYfoboUUl8",
        "outputId": "56bed3b5-2f4e-4595-f0c4-88dcd7ed230a"
      },
      "execution_count": 10,
      "outputs": [
        {
          "output_type": "stream",
          "name": "stdout",
          "text": [
            "['False', 'None', 'True', 'and', 'as', 'assert', 'async', 'await', 'break', 'class', 'continue', 'def', 'del', 'elif', 'else', 'except', 'finally', 'for', 'from', 'global', 'if', 'import', 'in', 'is', 'lambda', 'nonlocal', 'not', 'or', 'pass', 'raise', 'return', 'try', 'while', 'with', 'yield']\n"
          ]
        }
      ]
    },
    {
      "cell_type": "code",
      "source": [
        "## Write a program that checks if a given word is a Python keyword.\n",
        "import keyword\n",
        "key_word = input(\"enter the key word :\")\n",
        "if keyword.iskeyword(key_word) == True:\n",
        "    print(f\"{key_word} is a keyword\")\n",
        "else:\n",
        "    print(f\"{key_word} is not a keyword\")"
      ],
      "metadata": {
        "colab": {
          "base_uri": "https://localhost:8080/"
        },
        "id": "NiIxbP4TUo9b",
        "outputId": "ede7a256-bd77-4995-cff7-45ae97d5ed0c"
      },
      "execution_count": 11,
      "outputs": [
        {
          "output_type": "stream",
          "name": "stdout",
          "text": [
            "enter the key word :elif\n",
            "elif is a keyword\n"
          ]
        }
      ]
    },
    {
      "cell_type": "code",
      "source": [
        "'''Create a list and tuple in Python, and demonstrate how attempting to change an element works differently\n",
        "'''\n",
        "list1 = [1,2,3,4]\n",
        "list1.append(5)\n",
        "print(list1)\n",
        "tuple1 = (1,2,3,4)\n",
        "tuple1.append(5)\n",
        "print(tuple1)"
      ],
      "metadata": {
        "colab": {
          "base_uri": "https://localhost:8080/",
          "height": 216
        },
        "id": "bP8CfXojV97L",
        "outputId": "bf601ddb-7f8d-4032-eba2-83df4f77b7ac"
      },
      "execution_count": 13,
      "outputs": [
        {
          "output_type": "stream",
          "name": "stdout",
          "text": [
            "[1, 2, 3, 4, 5]\n"
          ]
        },
        {
          "output_type": "error",
          "ename": "AttributeError",
          "evalue": "'tuple' object has no attribute 'append'",
          "traceback": [
            "\u001b[0;31m---------------------------------------------------------------------------\u001b[0m",
            "\u001b[0;31mAttributeError\u001b[0m                            Traceback (most recent call last)",
            "\u001b[0;32m<ipython-input-13-7f3ca2a024d0>\u001b[0m in \u001b[0;36m<cell line: 0>\u001b[0;34m()\u001b[0m\n\u001b[1;32m      5\u001b[0m \u001b[0mprint\u001b[0m\u001b[0;34m(\u001b[0m\u001b[0mlist1\u001b[0m\u001b[0;34m)\u001b[0m\u001b[0;34m\u001b[0m\u001b[0;34m\u001b[0m\u001b[0m\n\u001b[1;32m      6\u001b[0m \u001b[0mtuple1\u001b[0m \u001b[0;34m=\u001b[0m \u001b[0;34m(\u001b[0m\u001b[0;36m1\u001b[0m\u001b[0;34m,\u001b[0m\u001b[0;36m2\u001b[0m\u001b[0;34m,\u001b[0m\u001b[0;36m3\u001b[0m\u001b[0;34m,\u001b[0m\u001b[0;36m4\u001b[0m\u001b[0;34m)\u001b[0m\u001b[0;34m\u001b[0m\u001b[0;34m\u001b[0m\u001b[0m\n\u001b[0;32m----> 7\u001b[0;31m \u001b[0mtuple1\u001b[0m\u001b[0;34m.\u001b[0m\u001b[0mappend\u001b[0m\u001b[0;34m(\u001b[0m\u001b[0;36m5\u001b[0m\u001b[0;34m)\u001b[0m\u001b[0;34m\u001b[0m\u001b[0;34m\u001b[0m\u001b[0m\n\u001b[0m\u001b[1;32m      8\u001b[0m \u001b[0mprint\u001b[0m\u001b[0;34m(\u001b[0m\u001b[0mtuple1\u001b[0m\u001b[0;34m)\u001b[0m\u001b[0;34m\u001b[0m\u001b[0;34m\u001b[0m\u001b[0m\n",
            "\u001b[0;31mAttributeError\u001b[0m: 'tuple' object has no attribute 'append'"
          ]
        }
      ]
    },
    {
      "cell_type": "code",
      "source": [
        "## Write a function to demonstrate the behavior of mutable and immutable arguments.\n",
        "def f(a,b):\n",
        "  print(a,b)\n",
        "  a = 10\n",
        "  b = [16,17,18]\n",
        "  print(a,b)\n",
        "\n",
        "x = 5\n",
        "y = [1,2,3]\n",
        "print(x,y)\n",
        "f(x,y)\n",
        "print(x,y)"
      ],
      "metadata": {
        "colab": {
          "base_uri": "https://localhost:8080/"
        },
        "id": "bd2xyUpjXFY5",
        "outputId": "f6796b3a-f292-4100-c2b1-b24132fe0300"
      },
      "execution_count": 15,
      "outputs": [
        {
          "output_type": "stream",
          "name": "stdout",
          "text": [
            "5 [1, 2, 3]\n",
            "5 [1, 2, 3]\n",
            "10 [16, 17, 18]\n",
            "5 [1, 2, 3]\n"
          ]
        }
      ]
    },
    {
      "cell_type": "code",
      "source": [
        "## Write a program that performs basic arithmetic operations on two user-input numbers\n",
        "def add(a,b):\n",
        "  return a+b\n",
        "def sub(a,b):\n",
        "  return a-b\n",
        "def mul(a,b):\n",
        "  return a*b\n",
        "def div(a,b):\n",
        "  return a/b\n",
        "\n",
        "x = input(\"enter the first number:\")\n",
        "y = input (\"enter the second number: \")\n",
        "print(f\"addition of {x} and {y} is {add(int(x),int(y))}\")\n",
        "print(f\"subtraction of {x} and {y} is {sub(int(x),int(y))}\")\n",
        "print(f\"multiplication of {x} and {y} is {mul(int(x),int(y))}\")\n",
        "print(f\"division of {x} and {y} is {div(int(x),int(y))}\")\n",
        "\n"
      ],
      "metadata": {
        "colab": {
          "base_uri": "https://localhost:8080/"
        },
        "id": "oOqXhqAmYmOg",
        "outputId": "3b0f8780-4b20-4ced-ce8a-89df6c317f95"
      },
      "execution_count": 16,
      "outputs": [
        {
          "output_type": "stream",
          "name": "stdout",
          "text": [
            "enter the first number: 10\n",
            "enter the second number:  20\n",
            "addition of  10 and  20 is 30\n",
            "subtraction of  10 and  20 is -10\n",
            "multiplication of  10 and  20 is 200\n",
            "division of  10 and  20 is 0.5\n"
          ]
        }
      ]
    },
    {
      "cell_type": "code",
      "source": [
        "## Write a program to demonstrate the use of logical operators.\n",
        "age = int(input(\"enter your age:\"))\n",
        "has_license = True\n",
        "if (age > 18 and has_license) or age > 60:\n",
        "  print(\"You are eligible to drive a car or senior citizen :\")\n",
        "else:\n",
        "  print(\"You are not eligible to drive a car\")"
      ],
      "metadata": {
        "colab": {
          "base_uri": "https://localhost:8080/"
        },
        "id": "KNg9m-vRZpKw",
        "outputId": "d7662836-d617-404e-a5fb-40d73d09fe13"
      },
      "execution_count": 19,
      "outputs": [
        {
          "output_type": "stream",
          "name": "stdout",
          "text": [
            "enter your age: 50\n",
            "You are eligible to drive a car or senior citizen :\n"
          ]
        }
      ]
    },
    {
      "cell_type": "code",
      "source": [
        "## Write a Python program to convert user input from string to integer, float, and boolean types.\n",
        "def convert_input():\n",
        "  string_input = input(\" enter a value\")\n",
        "\n",
        "  try:\n",
        "    integer_value = int(string_input)\n",
        "    print(f\"integer : {integer_value}, type: {type(integer_value)}\")\n",
        "\n",
        "  except ValueError:\n",
        "            print(\"not a integer value\")\n",
        "  try:\n",
        "            float_value = float(string_input)\n",
        "            print(f\"float : {float_value}, type: {type(float_value)}\")\n",
        "  except ValueError:\n",
        "            print(\"not a float value\")\n",
        "  if string_input.lower() == \"true\":\n",
        "            boolean_value = True\n",
        "            print(f\"boolean : {boolean_value}, type: {type(boolean_value)}\")\n",
        "  elif string_input.lower() == \"false\":\n",
        "            boolean_value = False\n",
        "            print(f\"boolean : {boolean_value}, type: {type(boolean_value)}\")\n",
        "  else:\n",
        "            print(\"not a boolean value\")\n",
        "\n",
        "convert_input()"
      ],
      "metadata": {
        "colab": {
          "base_uri": "https://localhost:8080/"
        },
        "id": "dMviUnAxaqD5",
        "outputId": "d0126bc0-5ff5-44d8-a310-30f8a7764983"
      },
      "execution_count": 28,
      "outputs": [
        {
          "output_type": "stream",
          "name": "stdout",
          "text": [
            " enter a value 4.0\n",
            "not a integer value\n",
            "float : 4.0, type: <class 'float'>\n",
            "not a boolean value\n"
          ]
        }
      ]
    },
    {
      "cell_type": "code",
      "source": [
        "## Write code to demonstrate type casting with list elements.\n",
        "a = [\"1\",\"2\",\"3\",\"4\",\"5\"]\n",
        "list(map(int,a))\n"
      ],
      "metadata": {
        "colab": {
          "base_uri": "https://localhost:8080/"
        },
        "id": "OdSSXTVVdZoU",
        "outputId": "5fea7e14-29b1-4cc0-d2db-7ca3e138c369"
      },
      "execution_count": 31,
      "outputs": [
        {
          "output_type": "execute_result",
          "data": {
            "text/plain": [
              "[1, 2, 3, 4, 5]"
            ]
          },
          "metadata": {},
          "execution_count": 31
        }
      ]
    },
    {
      "cell_type": "code",
      "source": [
        "##Write a program that checks if a number is positive, negative, or zero.\n",
        "\n",
        "x = int(input(\"enter the number\"))\n",
        "if x > 0:\n",
        "  print(\"number is positive\")\n",
        "elif x < 0:\n",
        "  print(\"number is negative\")\n",
        "else:\n",
        "  print(\"number is zero\")"
      ],
      "metadata": {
        "colab": {
          "base_uri": "https://localhost:8080/"
        },
        "id": "pB1IhAtYefuk",
        "outputId": "5a414906-fb52-46f6-c654-ce78843cbc9b"
      },
      "execution_count": 37,
      "outputs": [
        {
          "output_type": "stream",
          "name": "stdout",
          "text": [
            "enter the number 10\n",
            "number is positive\n"
          ]
        }
      ]
    },
    {
      "cell_type": "code",
      "source": [
        "## Write a for loop to print numbers from 1 to 10.\n",
        "\n",
        "for i in range (1,11,1):\n",
        "    print(f\"{i}\",end= \" \")"
      ],
      "metadata": {
        "colab": {
          "base_uri": "https://localhost:8080/"
        },
        "id": "JbTxyR9ffF6P",
        "outputId": "4a8a3ce6-868a-4539-c66d-f9200952a9b5"
      },
      "execution_count": 42,
      "outputs": [
        {
          "output_type": "stream",
          "name": "stdout",
          "text": [
            "1 2 3 4 5 6 7 8 9 10 "
          ]
        }
      ]
    },
    {
      "cell_type": "code",
      "source": [
        "##Write a Python program to find the sum of all even numbers between 1 and 50\n",
        "sum = 0\n",
        "for i in range(1,51):\n",
        "  if (i%2 == 0):\n",
        "    sum = sum + i\n",
        "    print(sum ,end=\"\")\n",
        "  else:\n",
        "    print(\"\")"
      ],
      "metadata": {
        "colab": {
          "base_uri": "https://localhost:8080/"
        },
        "id": "Yf1D0DcQf1SI",
        "outputId": "11c4c92b-fa7b-4199-a6f8-705898a7b865"
      },
      "execution_count": 48,
      "outputs": [
        {
          "output_type": "stream",
          "name": "stdout",
          "text": [
            "\n",
            "2\n",
            "6\n",
            "12\n",
            "20\n",
            "30\n",
            "42\n",
            "56\n",
            "72\n",
            "90\n",
            "110\n",
            "132\n",
            "156\n",
            "182\n",
            "210\n",
            "240\n",
            "272\n",
            "306\n",
            "342\n",
            "380\n",
            "420\n",
            "462\n",
            "506\n",
            "552\n",
            "600\n",
            "650"
          ]
        }
      ]
    },
    {
      "cell_type": "code",
      "source": [
        "##Write a program to reverse a string using a while loop.\n",
        "def reverse_string(s):\n",
        "    reversed_s = \" \"\n",
        "    length = len(s) - 1\n",
        "\n",
        "    while length >= 0:\n",
        "      reversed_s = reversed_s + s[length]\n",
        "      length = length - 1\n",
        "    return reversed_s\n",
        "\n",
        "original_string = \"Abhijeet Gautam\"\n",
        "\n",
        "reversed_string = reverse_string(original_string)\n",
        "print(reversed_string)"
      ],
      "metadata": {
        "colab": {
          "base_uri": "https://localhost:8080/"
        },
        "id": "uJS3bHXPhLo7",
        "outputId": "a9c824a9-207f-43e6-93ce-d28246057692"
      },
      "execution_count": 58,
      "outputs": [
        {
          "output_type": "stream",
          "name": "stdout",
          "text": [
            " matuaG teejihbA\n"
          ]
        }
      ]
    },
    {
      "cell_type": "code",
      "source": [
        "## Write a Python program to calculate the factorial of a number provided by the user using a while loop.\n",
        "def factorial (n):\n",
        "    i = 1\n",
        "    result = 1\n",
        "    while i <= n:\n",
        "      result = result * i\n",
        "      i = i + 1\n",
        "    return result\n",
        "\n",
        "x = int(input(\"enter the number\"))\n",
        "print(factorial(x))\n"
      ],
      "metadata": {
        "colab": {
          "base_uri": "https://localhost:8080/"
        },
        "id": "lDCXY5V-ia6E",
        "outputId": "9ecad6c5-ad8f-4a11-f4c0-c461ddecd11f"
      },
      "execution_count": 66,
      "outputs": [
        {
          "output_type": "stream",
          "name": "stdout",
          "text": [
            "enter the number 5\n",
            "120\n"
          ]
        }
      ]
    },
    {
      "cell_type": "code",
      "source": [],
      "metadata": {
        "id": "oXphvNVllpEv"
      },
      "execution_count": null,
      "outputs": []
    }
  ]
}